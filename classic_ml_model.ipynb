{
 "cells": [
  {
   "cell_type": "code",
   "execution_count": 1,
   "metadata": {},
   "outputs": [],
   "source": [
    "import os\n",
    "import numpy as np\n",
    "import pandas as pd\n",
    "\n",
    "import matplotlib.pyplot as plt\n",
    "\n",
    "import re\n",
    "import string\n",
    "from collections import Counter\n",
    "from nltk.corpus import stopwords\n",
    "stop_words = set(stopwords.words('english'))\n",
    "\n",
    "from sklearn.model_selection import train_test_split\n",
    "\n",
    "import torch\n",
    "from torch.utils.data import DataLoader, TensorDataset\n",
    "import torch.nn as nn\n",
    "# import torchutils as tu\n",
    "from torchmetrics.classification import BinaryAccuracy\n",
    "import nltk\n",
    "from nltk.corpus import stopwords\n",
    "import pymorphy3\n",
    "\n",
    "from pymorphy3 import MorphAnalyzer\n",
    "from nltk.corpus import stopwords\n",
    "\n",
    "from sklearn.feature_extraction.text import TfidfVectorizer, CountVectorizer\n",
    "from sklearn.model_selection import train_test_split\n",
    "from sklearn.preprocessing import LabelEncoder\n",
    "from sklearn.linear_model import LogisticRegression\n",
    "from sklearn.metrics import classification_report\n",
    "\n",
    "from sklearn.pipeline import Pipeline"
   ]
  },
  {
   "cell_type": "code",
   "execution_count": 2,
   "metadata": {},
   "outputs": [],
   "source": [
    "path = \"/home/savely/ds_bootcamp/ds-phase-2/Natural-Language-Processing/data/healthcare_facilities_reviews.jsonl\""
   ]
  },
  {
   "cell_type": "code",
   "execution_count": 3,
   "metadata": {},
   "outputs": [],
   "source": [
    "df = pd.read_json(path, lines=True)"
   ]
  },
  {
   "cell_type": "code",
   "execution_count": 4,
   "metadata": {},
   "outputs": [
    {
     "data": {
      "application/vnd.microsoft.datawrangler.viewer.v0+json": {
       "columns": [
        {
         "name": "index",
         "rawType": "int64",
         "type": "integer"
        },
        {
         "name": "review_id",
         "rawType": "int64",
         "type": "integer"
        },
        {
         "name": "category",
         "rawType": "object",
         "type": "string"
        },
        {
         "name": "title",
         "rawType": "object",
         "type": "string"
        },
        {
         "name": "content",
         "rawType": "object",
         "type": "string"
        },
        {
         "name": "sentiment",
         "rawType": "object",
         "type": "string"
        },
        {
         "name": "source_url",
         "rawType": "object",
         "type": "string"
        }
       ],
       "conversionMethod": "pd.DataFrame",
       "ref": "cf9e0471-c0c4-4589-8542-90c38b24db52",
       "rows": [
        [
         "0",
         "0",
         "Поликлиники стоматологические",
         "Классный мастер",
         "Огромное спасибо за чудесное удаление двух зубов мудрости за мгновение, доктор Матвеев! Профессионал с большой буквы. Боялась страшно, но все заняло реально 10 секунд, и я согласилась на удаление сразу и второго зуба! Без боли и страха. Очень рекомендую.",
         "positive",
         "http://www.spr.ru/forum_vyvod.php?id_tema=2727539"
        ],
        [
         "1",
         "1",
         "Поликлиники стоматологические",
         "Замечательный врач",
         "Хочу выразить особую благодарность замечательному доктору - Замареновой Антонине Васильевне. Был сложный случай, сделала все отлично! И отдельная благодарность ее медсестре Оле, очень внимательная и вежливая девушка!",
         "positive",
         "http://www.spr.ru/forum_vyvod.php?id_tema=2302877"
        ],
        [
         "2",
         "2",
         "Поликлиники стоматологические",
         "Благодарность работникам рентгена",
         "Добрый вечер! Хотелось бы поблагодарить сотрудников рентгена! Протезируюсь, отношусь к поликлинике № 189. Там меня отфутболили! Подходила к Кочину, зам. гл. врачу, заведующей просто сделать 3 снимка (пол-ка рядом с домом)- мне грубо отказали! А сотрудник рентгена просто сидела кроссворд разгадывала! Они видите ли, не принимают с протезирования! Сказали, где протезируетесь, там и делайте, а я говорю, мне у Вас удобно. Побоялись они! Первый раз попала к молодой девушке, она меня выслушала и сделала 1 снимок, а потом записала на другие дни, мне это удобно. Конечно, народу полно было! Бедные сотрудники. Все, кто читает отзыв (особенно жители Люблино 189 пол-ки), давайте жаловаться в департамент! Спасибо еще раз, за рентген (слышала в очереди, что народу у Вас было много и вы уже перебрали с нормой). Спасибо.",
         "positive",
         "http://www.spr.ru/forum_vyvod.php?id_tema=2815031"
        ],
        [
         "3",
         "3",
         "Поликлиники стоматологические",
         "Доктор Рабинович",
         "Женщины советского образца в регистратуре не имеют представления о том, что такое уважительное отношение к пациентам. По телефону мне сказали, что к хирургам записи нет, можно просто приезжать в любой день. Когда я приехала, мне сообщили, что сегодня операционный день и поэтому оба врача из данного отделения заняты надолго, в регистратуре мне посоветовали подождать, если у меня есть время. Времени у меня не было, а на мою просьбу записать меня к любому другому хирургу, который свободен или освободится быстрее, женщина в окошке недовольно надула щеки и ответила отказом. Стоит отметить, что данное заведение я посещаю на платной основе, а цены здесь далеки от минимальных, к тому же я не располагаю целым свободным днем, чтобы провести его весь в очереди к врачу. После того, как я выразила свое недоумение в связи с отказом отправить меня к любому хирургу, советская женщина обиделась на меня, что я плохим тоном с ней говорю и попросила \"не высказываться тут\". Но знаете, женщина, ваше отношение к пациентам не заслуживает никаких слов, кроме матерных. Желаю вам всем, чтоб ваши дети относились к вам так, как вы относитесь к пациентам. Руководству клиники 2 совета: во-первых, откройте на сайте жалобную книгу и, я думаю, вы за короткий период времени соберете очень много объективной информации о работе ваших сотрудников, если вам это вообще интересно, во-вторых, если вы берете немалые деньги с пациентов, будьте добры организовать запись ко всем врачам, а не заставлять людей приезжать просто так, либо сидеть днями в очередях.",
         "negative",
         "http://www.spr.ru/forum_vyvod.php?id_tema=3443161"
        ],
        [
         "4",
         "4",
         "Поликлиники стоматологические",
         "Есть кому сказать спасибо",
         "У меня с детства очень плохие зубы (тонкая и хрупкая эмаль + кривизна). Результат: к 15 годам 4 верхних резца все с пломбами. Не поверите, но мне 40, а на этих зубах всё ещё пломбы (не коронки и мосты).\nСтараюсь ходить только к одному врачу: Воробьёвой Галине Васильевне. Спокойная, добросовестная женщина, которая объясняет, что делает и для чего делает, справится обязательно о вашем самочувствии. А какой результат! Зубы практически идеальной формы, каждая пломба отшлифована настолько, что её совсем не ощущаешь, и, что самое важное, то, что все пломбы стоят десятилетиями, а не выпадают через месяц. Спасибо Вам, Галина Васильевна.",
         "positive",
         "http://www.spr.ru/forum_vyvod.php?id_tema=2592430"
        ]
       ],
       "shape": {
        "columns": 6,
        "rows": 5
       }
      },
      "text/html": [
       "<div>\n",
       "<style scoped>\n",
       "    .dataframe tbody tr th:only-of-type {\n",
       "        vertical-align: middle;\n",
       "    }\n",
       "\n",
       "    .dataframe tbody tr th {\n",
       "        vertical-align: top;\n",
       "    }\n",
       "\n",
       "    .dataframe thead th {\n",
       "        text-align: right;\n",
       "    }\n",
       "</style>\n",
       "<table border=\"1\" class=\"dataframe\">\n",
       "  <thead>\n",
       "    <tr style=\"text-align: right;\">\n",
       "      <th></th>\n",
       "      <th>review_id</th>\n",
       "      <th>category</th>\n",
       "      <th>title</th>\n",
       "      <th>content</th>\n",
       "      <th>sentiment</th>\n",
       "      <th>source_url</th>\n",
       "    </tr>\n",
       "  </thead>\n",
       "  <tbody>\n",
       "    <tr>\n",
       "      <th>0</th>\n",
       "      <td>0</td>\n",
       "      <td>Поликлиники стоматологические</td>\n",
       "      <td>Классный мастер</td>\n",
       "      <td>Огромное спасибо за чудесное удаление двух зуб...</td>\n",
       "      <td>positive</td>\n",
       "      <td>http://www.spr.ru/forum_vyvod.php?id_tema=2727539</td>\n",
       "    </tr>\n",
       "    <tr>\n",
       "      <th>1</th>\n",
       "      <td>1</td>\n",
       "      <td>Поликлиники стоматологические</td>\n",
       "      <td>Замечательный врач</td>\n",
       "      <td>Хочу выразить особую благодарность замечательн...</td>\n",
       "      <td>positive</td>\n",
       "      <td>http://www.spr.ru/forum_vyvod.php?id_tema=2302877</td>\n",
       "    </tr>\n",
       "    <tr>\n",
       "      <th>2</th>\n",
       "      <td>2</td>\n",
       "      <td>Поликлиники стоматологические</td>\n",
       "      <td>Благодарность работникам рентгена</td>\n",
       "      <td>Добрый вечер! Хотелось бы поблагодарить сотруд...</td>\n",
       "      <td>positive</td>\n",
       "      <td>http://www.spr.ru/forum_vyvod.php?id_tema=2815031</td>\n",
       "    </tr>\n",
       "    <tr>\n",
       "      <th>3</th>\n",
       "      <td>3</td>\n",
       "      <td>Поликлиники стоматологические</td>\n",
       "      <td>Доктор Рабинович</td>\n",
       "      <td>Женщины советского образца в регистратуре не и...</td>\n",
       "      <td>negative</td>\n",
       "      <td>http://www.spr.ru/forum_vyvod.php?id_tema=3443161</td>\n",
       "    </tr>\n",
       "    <tr>\n",
       "      <th>4</th>\n",
       "      <td>4</td>\n",
       "      <td>Поликлиники стоматологические</td>\n",
       "      <td>Есть кому сказать спасибо</td>\n",
       "      <td>У меня с детства очень плохие зубы (тонкая и х...</td>\n",
       "      <td>positive</td>\n",
       "      <td>http://www.spr.ru/forum_vyvod.php?id_tema=2592430</td>\n",
       "    </tr>\n",
       "  </tbody>\n",
       "</table>\n",
       "</div>"
      ],
      "text/plain": [
       "   review_id                       category  \\\n",
       "0          0  Поликлиники стоматологические   \n",
       "1          1  Поликлиники стоматологические   \n",
       "2          2  Поликлиники стоматологические   \n",
       "3          3  Поликлиники стоматологические   \n",
       "4          4  Поликлиники стоматологические   \n",
       "\n",
       "                               title  \\\n",
       "0                    Классный мастер   \n",
       "1                 Замечательный врач   \n",
       "2  Благодарность работникам рентгена   \n",
       "3                   Доктор Рабинович   \n",
       "4          Есть кому сказать спасибо   \n",
       "\n",
       "                                             content sentiment  \\\n",
       "0  Огромное спасибо за чудесное удаление двух зуб...  positive   \n",
       "1  Хочу выразить особую благодарность замечательн...  positive   \n",
       "2  Добрый вечер! Хотелось бы поблагодарить сотруд...  positive   \n",
       "3  Женщины советского образца в регистратуре не и...  negative   \n",
       "4  У меня с детства очень плохие зубы (тонкая и х...  positive   \n",
       "\n",
       "                                          source_url  \n",
       "0  http://www.spr.ru/forum_vyvod.php?id_tema=2727539  \n",
       "1  http://www.spr.ru/forum_vyvod.php?id_tema=2302877  \n",
       "2  http://www.spr.ru/forum_vyvod.php?id_tema=2815031  \n",
       "3  http://www.spr.ru/forum_vyvod.php?id_tema=3443161  \n",
       "4  http://www.spr.ru/forum_vyvod.php?id_tema=2592430  "
      ]
     },
     "execution_count": 4,
     "metadata": {},
     "output_type": "execute_result"
    }
   ],
   "source": [
    "df.head()"
   ]
  },
  {
   "cell_type": "code",
   "execution_count": 5,
   "metadata": {},
   "outputs": [
    {
     "data": {
      "text/plain": [
       "sentiment\n",
       "positive    41419\n",
       "negative    29178\n",
       "Name: count, dtype: int64"
      ]
     },
     "execution_count": 5,
     "metadata": {},
     "output_type": "execute_result"
    }
   ],
   "source": [
    "df[\"sentiment\"].value_counts()"
   ]
  },
  {
   "cell_type": "code",
   "execution_count": 6,
   "metadata": {},
   "outputs": [],
   "source": [
    "# Подготовка данных для обучения\n",
    "x = df['content']  # Тексты отзывов (фичи)\n",
    "y = df['sentiment']   # Целевая переменная (метки классов)"
   ]
  },
  {
   "cell_type": "code",
   "execution_count": 7,
   "metadata": {},
   "outputs": [
    {
     "name": "stderr",
     "output_type": "stream",
     "text": [
      "[nltk_data] Downloading package stopwords to /home/savely/nltk_data...\n",
      "[nltk_data]   Package stopwords is already up-to-date!\n"
     ]
    },
    {
     "data": {
      "text/plain": [
       "True"
      ]
     },
     "execution_count": 7,
     "metadata": {},
     "output_type": "execute_result"
    }
   ],
   "source": [
    "# Загрузка стоп-слов\n",
    "nltk.download('stopwords')"
   ]
  },
  {
   "cell_type": "code",
   "execution_count": 8,
   "metadata": {},
   "outputs": [],
   "source": [
    "# Инициализируем лемматизатор\n",
    "morph = pymorphy3.MorphAnalyzer()"
   ]
  },
  {
   "cell_type": "code",
   "execution_count": 9,
   "metadata": {},
   "outputs": [],
   "source": [
    "# Инициализируем список стоп-слов\n",
    "stop_words = set(stopwords.words('russian'))\n",
    "\n",
    "# Функция для очистки текста\n",
    "def clean_text(text):\n",
    "    if not isinstance(text, str):  # Проверяем, что текст строка\n",
    "        return \"\"\n",
    "\n",
    "    text = text.lower()  # Приводим к нижнему регистру\n",
    "    text = text.translate(str.maketrans('', '', string.punctuation))  # Удаляем пунктуацию\n",
    "    tokens = text.split()  # Разбиваем на слова\n",
    "    tokens = [morph.parse(word)[0].normal_form for word in tokens if word not in stop_words]  # Лемматизация\n",
    "    tokens = [word for word in tokens if len(word) > 1]  # Убираем слишком короткие слова\n",
    "    cleaned_text = \" \".join(tokens).strip()  # Убираем лишние пробелы\n",
    "    return cleaned_text if cleaned_text else None \n"
   ]
  },
  {
   "cell_type": "code",
   "execution_count": 10,
   "metadata": {},
   "outputs": [
    {
     "data": {
      "text/plain": [
       "'Огромное спасибо за чудесное удаление двух зубов мудрости за мгновение, доктор Матвеев! Профессионал с большой буквы. Боялась страшно, но все заняло реально 10 секунд, и я согласилась на удаление сразу и второго зуба! Без боли и страха. Очень рекомендую.'"
      ]
     },
     "execution_count": 10,
     "metadata": {},
     "output_type": "execute_result"
    }
   ],
   "source": [
    "x[0]"
   ]
  },
  {
   "cell_type": "code",
   "execution_count": 11,
   "metadata": {},
   "outputs": [
    {
     "data": {
      "text/plain": [
       "'огромный спасибо чудесный удаление два зуб мудрость мгновение доктор матвеев профессионал большой буква бояться страшно занять реально 10 секунда согласиться удаление сразу второй зуб боль страх очень рекомендовать'"
      ]
     },
     "execution_count": 11,
     "metadata": {},
     "output_type": "execute_result"
    }
   ],
   "source": [
    "clean_text(x[0])"
   ]
  },
  {
   "cell_type": "code",
   "execution_count": 12,
   "metadata": {},
   "outputs": [],
   "source": [
    "# Предобработка текста\n",
    "X_processed = x.apply(clean_text)"
   ]
  },
  {
   "cell_type": "code",
   "execution_count": 13,
   "metadata": {},
   "outputs": [],
   "source": [
    "# Кодирование целевой переменной\n",
    "encoder = LabelEncoder()\n",
    "y_encoded = encoder.fit_transform(y)"
   ]
  },
  {
   "cell_type": "code",
   "execution_count": 14,
   "metadata": {},
   "outputs": [],
   "source": [
    "# Разделение на train/test\n",
    "X_train, X_test, y_train, y_test = train_test_split(\n",
    "    X_processed, y_encoded, test_size=0.2, random_state=42)"
   ]
  },
  {
   "cell_type": "code",
   "execution_count": 15,
   "metadata": {},
   "outputs": [
    {
     "name": "stdout",
     "output_type": "stream",
     "text": [
      "Bag-of-Words + Logistic Regression:\n",
      "              precision    recall  f1-score   support\n",
      "\n",
      "    negative       0.92      0.92      0.92      5778\n",
      "    positive       0.95      0.95      0.95      8342\n",
      "\n",
      "    accuracy                           0.94     14120\n",
      "   macro avg       0.93      0.93      0.93     14120\n",
      "weighted avg       0.94      0.94      0.94     14120\n",
      "\n"
     ]
    }
   ],
   "source": [
    "# Вариант 1: Классификация с Bag-of-Words + Logistic Regression\n",
    "bow_pipeline = Pipeline([\n",
    "    ('vectorizer', CountVectorizer(max_features=10000, ngram_range=(1,2))),\n",
    "    ('classifier', LogisticRegression(max_iter=500))\n",
    "])\n",
    "\n",
    "bow_pipeline.fit(X_train, y_train)\n",
    "bow_pred = bow_pipeline.predict(X_test)\n",
    "\n",
    "print(\"Bag-of-Words + Logistic Regression:\")\n",
    "print(classification_report(y_test, bow_pred, target_names=encoder.classes_))"
   ]
  },
  {
   "cell_type": "code",
   "execution_count": 16,
   "metadata": {},
   "outputs": [
    {
     "name": "stdout",
     "output_type": "stream",
     "text": [
      "\n",
      "Обучение модели TF-IDF + Logistic Regression...\n",
      "\n",
      "Результаты TF-IDF:\n",
      "              precision    recall  f1-score   support\n",
      "\n",
      "    negative       0.93      0.94      0.93      5778\n",
      "    positive       0.95      0.95      0.95      8342\n",
      "\n",
      "    accuracy                           0.94     14120\n",
      "   macro avg       0.94      0.94      0.94     14120\n",
      "weighted avg       0.94      0.94      0.94     14120\n",
      "\n"
     ]
    }
   ],
   "source": [
    "# Вариант 2: Pipeline с TF-IDF + Logistic Regression\n",
    "print(\"\\nОбучение модели TF-IDF + Logistic Regression...\")\n",
    "tfidf_pipeline = Pipeline([\n",
    "    ('vectorizer', TfidfVectorizer(max_features=10000, ngram_range=(1, 2))),\n",
    "    ('classifier', LogisticRegression(max_iter=500))\n",
    "])\n",
    "\n",
    "tfidf_pipeline.fit(X_train, y_train)\n",
    "tfidf_pred = tfidf_pipeline.predict(X_test)\n",
    "\n",
    "print(\"\\nРезультаты TF-IDF:\")\n",
    "print(classification_report(y_test, tfidf_pred, target_names=encoder.classes_))"
   ]
  },
  {
   "cell_type": "code",
   "execution_count": 17,
   "metadata": {},
   "outputs": [
    {
     "name": "stdout",
     "output_type": "stream",
     "text": [
      "\n",
      "Пример работы модели для текста: 'Очень плохой сервис, никогда больше не приду!'\n",
      "Bag-of-Words предсказывает: negative\n",
      "TF-IDF предсказывает: negative\n"
     ]
    }
   ],
   "source": [
    "# Пример предсказания для нового текста\n",
    "test_review = \"Очень плохой сервис, никогда больше не приду!\"\n",
    "processed_review = clean_text(test_review)\n",
    "bow_prediction = bow_pipeline.predict([processed_review])[0]\n",
    "tfidf_prediction = tfidf_pipeline.predict([processed_review])[0]\n",
    "\n",
    "print(f\"\\nПример работы модели для текста: '{test_review}'\")\n",
    "print(f\"Bag-of-Words предсказывает: {encoder.inverse_transform([bow_prediction])[0]}\")\n",
    "print(f\"TF-IDF предсказывает: {encoder.inverse_transform([tfidf_prediction])[0]}\")\n"
   ]
  },
  {
   "cell_type": "code",
   "execution_count": 18,
   "metadata": {},
   "outputs": [
    {
     "data": {
      "text/plain": [
       "['tfidf_pipeline.joblib']"
      ]
     },
     "execution_count": 18,
     "metadata": {},
     "output_type": "execute_result"
    }
   ],
   "source": [
    "import joblib\n",
    "# Сохраняем pipeline (модель + векторизатор)\n",
    "joblib.dump(bow_pipeline, 'bow_pipeline.joblib')\n",
    "joblib.dump(tfidf_pipeline, 'tfidf_pipeline.joblib')\n"
   ]
  },
  {
   "cell_type": "markdown",
   "metadata": {},
   "source": []
  },
  {
   "cell_type": "code",
   "execution_count": null,
   "metadata": {},
   "outputs": [],
   "source": []
  },
  {
   "cell_type": "code",
   "execution_count": null,
   "metadata": {},
   "outputs": [],
   "source": []
  }
 ],
 "metadata": {
  "kernelspec": {
   "display_name": ".nlp",
   "language": "python",
   "name": "python3"
  },
  "language_info": {
   "codemirror_mode": {
    "name": "ipython",
    "version": 3
   },
   "file_extension": ".py",
   "mimetype": "text/x-python",
   "name": "python",
   "nbconvert_exporter": "python",
   "pygments_lexer": "ipython3",
   "version": "3.10.16"
  }
 },
 "nbformat": 4,
 "nbformat_minor": 2
}
